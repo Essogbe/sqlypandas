{
 "nbformat": 4,
 "nbformat_minor": 0,
 "metadata": {
  "colab": {
   "provenance": []
  },
  "kernelspec": {
   "name": "python3",
   "display_name": "Python 3 (ipykernel)",
   "language": "python"
  },
  "language_info": {
   "name": "python"
  }
 },
 "cells": [
  {
   "cell_type": "code",
   "metadata": {
    "id": "fE9FMphPHGaw"
   },
   "source": [
    "#Install Python library for using SQL on Jupyter Notebook\n",
    "!pip install ipython-sql"
   ],
   "outputs": [],
   "execution_count": null
  },
  {
   "cell_type": "code",
   "source": [
    "%config SqlMagic.style = '_DEPRECATED_DEFAULT'"
   ],
   "metadata": {
    "id": "vdL-Dzc5HI8R"
   },
   "outputs": [],
   "execution_count": null
  },
  {
   "cell_type": "code",
   "source": [
    "#load sql module for running sql queries\n",
    "%load_ext sql"
   ],
   "metadata": {
    "id": "B_yQU8gDHJXP"
   },
   "outputs": [],
   "execution_count": null
  },
  {
   "cell_type": "code",
   "source": [],
   "metadata": {
    "id": "0_YX8njhIHw1"
   },
   "outputs": [],
   "execution_count": null
  },
  {
   "cell_type": "code",
   "source": [
    "import pandas as pd\n",
    "import sqlite3\n",
    "import matplotlib.pyplot as plt\n"
   ],
   "metadata": {
    "id": "mFrWYb23HJfF"
   },
   "outputs": [],
   "execution_count": null
  },
  {
   "cell_type": "code",
   "source": [
    "file_path=\"CovidDeaths.xlsx\"\n",
    "db_name=\"db_sqlite\"\n",
    "table_name=\"CovidDeaths\""
   ],
   "metadata": {
    "id": "si0IaDS_HsxF"
   },
   "outputs": [],
   "execution_count": null
  },
  {
   "cell_type": "code",
   "source": [
    "#clone repository database\n",
    "\n"
   ],
   "metadata": {
    "id": "TFpCTZkqIoX2"
   },
   "outputs": [],
   "execution_count": null
  },
  {
   "cell_type": "code",
   "source": [
    "#Read the  file\n",
    "df = pd.read_excel(file_path,nrows=10000)"
   ],
   "metadata": {
    "id": "8GKiWNGtHfv7"
   },
   "outputs": [],
   "execution_count": null
  },
  {
   "cell_type": "code",
   "source": [
    "%sql sqlite:///db_sqlite.db"
   ],
   "metadata": {
    "id": "WMM8ZaVWHpHL"
   },
   "outputs": [],
   "execution_count": null
  },
  {
   "cell_type": "code",
   "source": [
    "#create a connection to the db\n",
    "conn =sqlite3.connect('db_sqlite.db')"
   ],
   "metadata": {
    "id": "vVtZDjbDHpTY"
   },
   "outputs": [],
   "execution_count": null
  },
  {
   "cell_type": "code",
   "source": [
    "#converts the DataFrame into a sql Table\n",
    "df.to_sql(table_name,conn, if_exists='replace', index=False)"
   ],
   "metadata": {
    "id": "PTB6-vBtIM_S"
   },
   "outputs": [],
   "execution_count": null
  },
  {
   "cell_type": "code",
   "source": [
    "from typing import List\n",
    "\n",
    "def unique(nom_table, col):\n",
    "    \"\"\"\n",
    "    Implémentation simple de la fonction unique de pandas\n",
    "    \"\"\"\n",
    "    query = f\"select distinct {col} from {nom_table}\"\n",
    "    result = %sql {query}\n",
    "    return result\n",
    "\n",
    "def join(nom_table, join_table, on):\n",
    "    \"\"\"\n",
    "    Implémentation simple de la fonction join de pandas\n",
    "    \"\"\"\n",
    "    query = f\"select * from {nom_table} join {join_table} on {on}\"\n",
    "    result = %sql {query}\n",
    "    return result\n",
    "\n",
    "def group_by(nom_table, by: List, limit=10):\n",
    "    \"\"\"\n",
    "    Implémentation simple de la fonction group_by de pandas\n",
    "    \"\"\"\n",
    "    query = f\"select * from {nom_table} group by {','.join(by)} limit {limit}\"\n",
    "    result = %sql {query}\n",
    "    return result\n",
    "\n",
    "def simple_iloc(nom_table, indexes: List, limit=100):\n",
    "    \"\"\"\n",
    "    Implémentation simple de la fonction iloc de pandas\n",
    "    Renvoie les lignes de la table\n",
    "    \"\"\"\n",
    "    idx = [str(id) for id in indexes]\n",
    "    query = f\"select * from {nom_table} where rowid in ({','.join(idx)}) LIMIT {limit}\"\n",
    "    result = %sql {query}\n",
    "    return result\n",
    "\n",
    "def simple_loc(nom_table, indexes: List, limit=100):\n",
    "    \"\"\"\n",
    "    Implémentation simple de la fonction loc de pandas\n",
    "    Renvoie les lignes d'index spécifiées de la table\n",
    "    \"\"\"\n",
    "    query = f\"select * from {nom_table} where index in ({','.join(indexes)}) LIMIT {limit}\"\n",
    "    result = %sql {query}\n",
    "    return result\n",
    "\n",
    "def rename_table(nom_table, new_name):\n",
    "    \"\"\"\n",
    "    Renommer une table\n",
    "    \"\"\"\n",
    "    query = f\"ALTER TABLE {nom_table} RENAME TO {new_name}\"\n",
    "    result = %sql {query}\n",
    "    return result\n",
    "\n",
    "def get_columns(columns: List, nom_table):\n",
    "    \"\"\"\n",
    "    Récupérer les colonnes spécifiées d'une table\n",
    "    \"\"\"\n",
    "    query = f\"select {','.join(columns)} from {nom_table}\"\n",
    "    result = %sql {query}\n",
    "    return result\n",
    "\n",
    "def shape_sql(nom_table):\n",
    "    \"\"\"\n",
    "    Retourne la forme de la table (lignes, colonnes)\n",
    "    \"\"\"\n",
    "    query_column = f\"select count(*) from pragma_table_info('{nom_table}')\"\n",
    "    ncolumns = %sql {query_column}\n",
    "    nrows = %sql select count(*) from {nom_table}\n",
    "    col = int(ncolumns[0][0])\n",
    "    rows = int(nrows[0][0])\n",
    "    return (rows, col)\n",
    "\n",
    "def head_sql(nom_table, n=5):\n",
    "    \"\"\"\n",
    "    Fonction similaire à head() de pandas\n",
    "    \"\"\"\n",
    "    query = %sql select * from {nom_table} LIMIT {n}\n",
    "    return query\n",
    "\n",
    "def tail_sql(nom_table, n=5):\n",
    "    \"\"\"\n",
    "    Fonction similaire à tail() de pandas\n",
    "    \"\"\"\n",
    "    query = %sql select * from {nom_table} ORDER BY {nom_table} DESC LIMIT {n}\n",
    "    return query\n",
    "\n",
    "def info_sql(nom_table):\n",
    "    \"\"\"\n",
    "    Obtenir les informations sur la structure de la table\n",
    "    \"\"\"\n",
    "    query = f\"PRAGMA table_info({nom_table})\"\n",
    "    info = %sql {query}\n",
    "    return info\n",
    "\n",
    "def get_cols(nom_table):\n",
    "    \"\"\"\n",
    "    Retourne les colonnes d'une table\n",
    "    \"\"\"\n",
    "    query = f\"select * from pragma_table_info('{nom_table}')\"\n",
    "    query = %sql {query}\n",
    "    return query\n",
    "\n",
    "def dropna(nom_table, listcol):\n",
    "    \"\"\"\n",
    "    Supprimer les lignes contenant des valeurs manquantes (None) basées sur les colonnes spécifiées\n",
    "    \"\"\"\n",
    "    colsdrop = f\"{listcol[0]}\"\n",
    "    if len(listcol) > 1:\n",
    "        colsdrop = \"  <> 'None' AND \".join(listcol)  # Adapter à vos valeurs NA. Exemple : <colname> IS NOT NULL\n",
    "    colsdrop += \" <> 'None' \"\n",
    "    query = %sql select * from {nom_table} where {colsdrop} LIMIT 100\n",
    "    return query\n",
    "\n",
    "def describe(nom_table, colname):\n",
    "    \"\"\"\n",
    "    Retourne le nombre, max, min, moyenne, écart-type et quelques quantiles\n",
    "    \"\"\"\n",
    "    count = %sql select count(*) as count from {nom_table} where {colname} <> 'None'\n",
    "    max = %sql select MAX({colname}) as max from {nom_table}\n",
    "    min = %sql select MIN({colname}) as min from {nom_table}\n",
    "    avg = %sql select AVG({colname}) as mean from {nom_table}\n",
    "\n",
    "    q25 = quantile(nom_table, colname, q=0.25)\n",
    "    q50 = quantile(nom_table, colname, q=0.5)\n",
    "    q75 = quantile(nom_table, colname, q=0.75)\n",
    "    std = get_std(nom_table, colname)\n",
    "\n",
    "    return f\"\"\"\n",
    "        count : {count[0][0]}\n",
    "        min : {min[0][0]}\n",
    "        mean : {avg[0][0]}\n",
    "        25% : {q25[0][0]}\n",
    "        50% : {q50[0][0]}\n",
    "        75% : {q75[0][0]}\n",
    "        max : {max[0][0]}\n",
    "    \"\"\"\n",
    "\n",
    "def quantile(nom_table, colname, q=0.5):\n",
    "    \"\"\"\n",
    "    Retourne la valeur du quantile basé sur le nom de la table et de la colonne\n",
    "    \"\"\"\n",
    "\n",
    "     #sort in ascending order with each row index\n",
    "    first_step = f\"select {colname},ROW_NUMBER() over (order by {colname} ) as row_id from {nom_table} WHERE {colname} <> 'None' order by {colname} asc\"\n",
    "    query = f\"\"\"\n",
    "        with quant as ({first_step})\n",
    "        select {colname} as Q{str(q * 10)} from quant where row_id = CEIL((SELECT COUNT(*) FROM quant) * {q})\n",
    "    \"\"\"#Q{str(q*100)} =>Q25 for q=0.25\n",
    "    run_it = %sql {query}\n",
    "    return run_it\n",
    "\n",
    "def get_std(nom_table, colname):\n",
    "    \"\"\"\n",
    "    Retourne l'écart-type d'un ensemble de valeurs dans une colonne\n",
    "    \"\"\"\n",
    "    mean = %sql select AVG({colname}) from {nom_table}\n",
    "    query = f\"select SQRT((SUM(POWER({colname} - {mean[0][0]}, 2)))/count({colname})) as std from {nom_table}\"\n",
    "    query = %sql {query}\n",
    "    return query\n"
   ],
   "metadata": {
    "id": "emNzTjyXHJm1"
   },
   "outputs": [],
   "execution_count": null
  }
 ]
}
